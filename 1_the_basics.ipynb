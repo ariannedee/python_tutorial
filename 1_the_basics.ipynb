{
 "cells": [
  {
   "cell_type": "markdown",
   "metadata": {
    "collapsed": false
   },
   "source": [
    "## Lesson 1: the basics\n",
    "Hello! This is Jupyter notebook. In it, you can run python code, edit it, and run it again.\n",
    "\n",
    "In this notebook, there are a few short excercises to get you acquainted with the basics of Python, and programming languages in general. Anything that is marked **todo** will require you to run the code, change it to complete the exercise, and run it again. To run the code, select a code cell (grey background) and click Run (above) or type Shift + Enter. The code will run and the result of the code will print below it, as well as any print statements that were made."
   ]
  },
  {
   "cell_type": "markdown",
   "metadata": {
    "collapsed": false
   },
   "source": [
    "### 1 - Hello World\n",
    "The quintessential first program: make the code say \"Hello World\". \n",
    "\n",
    "**todo:** Edit this to say \"Hello Heather\"."
   ]
  },
  {
   "cell_type": "code",
   "execution_count": 1,
   "metadata": {
    "collapsed": false
   },
   "outputs": [
   ],
   "source": [
    "print(\"hello world\")"
   ]
  },
  {
   "cell_type": "markdown",
   "metadata": {
    "collapsed": false
   },
   "source": [
    "### 2 - Variables\n",
    "Like in algebra, we can represent unknowns in Python using variables.\n",
    "\n",
    "**todo:** display \"Hello computer\" instead"
   ]
  },
  {
   "cell_type": "code",
   "execution_count": 3,
   "metadata": {
    "collapsed": false
   },
   "outputs": [
   ],
   "source": [
    "name = \"Heather\"\n",
    "print(\"Hello\" + name)"
   ]
  },
  {
   "cell_type": "markdown",
   "metadata": {
    "collapsed": false
   },
   "source": [
    "In this case, `name` is the variable and it contains the object \"Heather\".\n",
    "\n",
    "You can be change variables by reassigning them.\n",
    "\n",
    "**todo:** Get the following code to count down to 0."
   ]
  },
  {
   "cell_type": "code",
   "execution_count": 1,
   "metadata": {
    "collapsed": false
   },
   "outputs": [
   ],
   "source": [
    "count = 3\n",
    "print(\"Countdown!\")\n",
    "print(count)\n",
    "count = 2\n",
    "print(count)"
   ]
  },
  {
   "cell_type": "markdown",
   "metadata": {
    "collapsed": false
   },
   "source": [
    "### 3 - Types\n",
    "Everything in python has a type. So far we have seen objects with 3 kinds of types."
   ]
  },
  {
   "cell_type": "code",
   "execution_count": 2,
   "metadata": {
    "collapsed": false
   },
   "outputs": [
   ],
   "source": [
    "print(type(\"hello world\"))\n",
    "print(type(3))\n",
    "print(type(print))"
   ]
  },
  {
   "cell_type": "code",
   "execution_count": 10,
   "metadata": {
    "collapsed": false
   },
   "outputs": [
   ],
   "source": [
    "type(3) == int"
   ]
  },
  {
   "cell_type": "markdown",
   "metadata": {
    "collapsed": false
   },
   "source": [
    "You can see a full list of Python's default (built-in) types [here](http://www.informit.com/articles/article.aspx?p=453682&seqNum=5) (table 3.1).\n",
    "\n",
    "There are a lot of types and you don't need to worry about most of them for now. \n",
    "The most important to know are `int, float, bool, str`. In future lessons, we will cover `list, xrange, dict`, and the ones you will need to become a competent Python programmer are `set, tuple, object`.\n",
    "\n",
    "These are called built-in because they are the types that Python comes with, but you can always create your own, which is a more advanced topic."
   ]
  },
  {
   "cell_type": "code",
   "execution_count": 11,
   "metadata": {
    "collapsed": false
   },
   "outputs": [
   ],
   "source": [
    "print(type(3.41))  # floats are numbers with a decimal\n",
    "print(type(None))  # None is used to define a null object\n",
    "print(type(True))\n",
    "print(type(False))  # booleans are useful for comparisons\n",
    "my_variable = 'hi'\n",
    "print(type(my_variable))  # you can also get the types of variables"
   ]
  },
  {
   "cell_type": "markdown",
   "metadata": {
    "collapsed": false
   },
   "source": [
    "The orange texts are comments. Python will not evaluate them."
   ]
  },
  {
   "cell_type": "markdown",
   "metadata": {
    "collapsed": false
   },
   "source": [
    "### 4 - Typecasting\n",
    "You can get Python to (try to) change the type of an object. This process is known as typecasting."
   ]
  },
  {
   "cell_type": "code",
   "execution_count": 8,
   "metadata": {
    "collapsed": false
   },
   "outputs": [
   ],
   "source": [
    "num_apples = 5\n",
    "print(type(num_apples))\n",
    "num_apples = str(num_apples)\n",
    "print(type(num_apples))"
   ]
  },
  {
   "cell_type": "markdown",
   "metadata": {
    "collapsed": false
   },
   "source": [
    "Why do these print different results?"
   ]
  },
  {
   "cell_type": "code",
   "execution_count": 0,
   "metadata": {
    "collapsed": false
   },
   "outputs": [
   ],
   "source": [
    "print(2 + int('2'))\n",
    "print(str(2) + '2')"
   ]
  },
  {
   "cell_type": "markdown",
   "metadata": {
    "collapsed": false
   },
   "source": [
    "**todo:** Print \"99 bottles of beer on the wall\""
   ]
  },
  {
   "cell_type": "code",
   "execution_count": 9,
   "metadata": {
    "collapsed": false
   },
   "outputs": [
   ],
   "source": [
    "num_bottles = 99\n",
    "print(99 + \" bottles of beer on the wall\")"
   ]
  },
  {
   "cell_type": "markdown",
   "metadata": {
    "collapsed": false
   },
   "source": [
    "### 5 - Built-in functions\n",
    "By default, different types of objects have different things you can do with them"
   ]
  },
  {
   "cell_type": "markdown",
   "metadata": {
    "collapsed": false
   },
   "source": [
    "#### Numbers (int and float) [list of functions](https://docs.python.org/3/library/stdtypes.html#numeric-types-int-float-complex)\n",
    "You can already use Python like a fancy calculator"
   ]
  },
  {
   "cell_type": "code",
   "execution_count": 14,
   "metadata": {
    "collapsed": false
   },
   "outputs": [
   ],
   "source": [
    "g = 9.81\n",
    "v = 1.23452\n",
    "\n",
    "answer = ((0.5 * v**2) + g*2.3) / g\n",
    "print(\"The answer is: \" + str(answer))"
   ]
  },
  {
   "cell_type": "markdown",
   "metadata": {
    "collapsed": false
   },
   "source": [
    "#### Strings [list of functions](https://docs.python.org/3/library/stdtypes.html#string-methods)\n",
    "You can do a lot with strings out of the box. Here are some of the basic methods.\n",
    "\n",
    "**todo:** can you tell what `strip` does?"
   ]
  },
  {
   "cell_type": "code",
   "execution_count": 21,
   "metadata": {
    "collapsed": false
   },
   "outputs": [
   ],
   "source": [
    "string = \"hello World  \"\n",
    "\n",
    "print(string.upper())\n",
    "print(string.lower())\n",
    "print(string.capitalize())\n",
    "print(string.title())\n",
    "print(string.strip())"
   ]
  },
  {
   "cell_type": "markdown",
   "metadata": {
    "collapsed": false
   },
   "source": [
    "### Booleans [list of functions](https://docs.python.org/3/library/stdtypes.html#boolean-operations-and-or-not)\n",
    "You can use `<, >, ==, <=, >=, and, or` to compare values. They will return a boolean, either `True` or `False`.\n",
    "\n",
    "**todo:** Write down what you think each of the comparisons below will return. Run it and see if anything was unexpected."
   ]
  },
  {
   "cell_type": "code",
   "execution_count": 1,
   "metadata": {
    "collapsed": false
   },
   "outputs": [
   ],
   "source": [
    "print(\"Math comparisons\")\n",
    "print(10 > 9)\n",
    "print(10 > 10)\n",
    "print(10 >= 10)\n",
    "print(10 == 10)\n",
    "print(10 < 10)\n",
    "\n",
    "print(\"Boolean operators:\")\n",
    "print(\"and\")\n",
    "print(True and True)\n",
    "print(True and False)\n",
    "print(False and False)\n",
    "print(\"or\")\n",
    "print(True or True)\n",
    "print(True or False)\n",
    "print(False or False)\n",
    "\n",
    "print(\"You can combine them\")\n",
    "x = 5\n",
    "print(0 < x and x < 10)\n",
    "print(x == 5 or x == '5')\n",
    "print(x < 0 or x > 10)"
   ]
  },
  {
   "cell_type": "markdown",
   "metadata": {
    "collapsed": false
   },
   "source": [
    "### End of lesson 1\n",
    "That's it for now! Please let me know roughly how long it took to get through and give me any feedback you feel is helpful.\n",
    "\n",
    "**Up next:** if/else statements, for loops, arrays, and dictionaries"
   ]
  }
 ],
 "metadata": {
  "kernelspec": {
   "display_name": "Python 3 (Anaconda)",
   "language": "python",
   "name": "anaconda3"
  },
  "language_info": {
   "codemirror_mode": {
    "name": "ipython",
    "version": 3
   },
   "file_extension": ".py",
   "mimetype": "text/x-python",
   "name": "python",
   "nbconvert_exporter": "python",
   "pygments_lexer": "ipython3",
   "version": "3.5.4"
  }
 },
 "nbformat": 4,
 "nbformat_minor": 0
}